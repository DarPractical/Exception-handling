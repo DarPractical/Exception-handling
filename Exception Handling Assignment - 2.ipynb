{
 "cells": [
  {
   "cell_type": "markdown",
   "id": "739d6d61-a6fe-4be3-97b2-130a92c380a9",
   "metadata": {},
   "source": [
    "# Q1. Explain why we have to use the Exception class while creating a Custom Exception."
   ]
  },
  {
   "cell_type": "markdown",
   "id": "68ef6322-0c3d-4180-a23a-c6109259bf0f",
   "metadata": {},
   "source": [
    "Exception class refers to the class which contains all type of error(exceptions),\n",
    "We use Exception class while creating a custom Exception because when a exception encounteredd by using the excception class we can esaily handle those situations esaily\n",
    "by inheriting the classes we can esaily encounter these type of errors"
   ]
  },
  {
   "cell_type": "markdown",
   "id": "b20e7ae6-6b12-4673-a216-8b49fdb2c3e8",
   "metadata": {},
   "source": [
    "# Q2. What Happens when a exception is not handled? explain with example?\n"
   ]
  },
  {
   "cell_type": "markdown",
   "id": "8930a9aa-26b7-4bdb-8c98-641c5a8b48d5",
   "metadata": {},
   "source": [
    "For Example:\n",
    "    when we are working on a project suppose its a calculator thereyour performing a division operation\n",
    "    \n",
    "    \n",
    "    "
   ]
  },
  {
   "cell_type": "code",
   "execution_count": 2,
   "id": "51b707d8-ff41-49b3-bb33-368a043eb1c1",
   "metadata": {},
   "outputs": [
    {
     "name": "stdin",
     "output_type": "stream",
     "text": [
      "ENTER THE FIRST NUMBER 1\n",
      "ENTER THE SECOND NUMBER 0\n"
     ]
    },
    {
     "ename": "ZeroDivisionError",
     "evalue": "division by zero",
     "output_type": "error",
     "traceback": [
      "\u001b[0;31m---------------------------------------------------------------------------\u001b[0m",
      "\u001b[0;31mZeroDivisionError\u001b[0m                         Traceback (most recent call last)",
      "Cell \u001b[0;32mIn[2], line 3\u001b[0m\n\u001b[1;32m      1\u001b[0m num1\u001b[38;5;241m=\u001b[39m\u001b[38;5;28mint\u001b[39m(\u001b[38;5;28minput\u001b[39m(\u001b[38;5;124m\"\u001b[39m\u001b[38;5;124mENTER THE FIRST NUMBER\u001b[39m\u001b[38;5;124m\"\u001b[39m))\n\u001b[1;32m      2\u001b[0m num2\u001b[38;5;241m=\u001b[39m\u001b[38;5;28mint\u001b[39m(\u001b[38;5;28minput\u001b[39m(\u001b[38;5;124m\"\u001b[39m\u001b[38;5;124mENTER THE SECOND NUMBER\u001b[39m\u001b[38;5;124m\"\u001b[39m))\n\u001b[0;32m----> 3\u001b[0m div\u001b[38;5;241m=\u001b[39m\u001b[43mnum1\u001b[49m\u001b[38;5;241;43m/\u001b[39;49m\u001b[43mnum2\u001b[49m\n",
      "\u001b[0;31mZeroDivisionError\u001b[0m: division by zero"
     ]
    }
   ],
   "source": [
    "\n",
    "    num1=int(input(\"ENTER THE FIRST NUMBER\"))\n",
    "    num2=int(input(\"ENTER THE SECOND NUMBER\"))\n",
    "    div=num1/num2\n",
    "    "
   ]
  },
  {
   "cell_type": "code",
   "execution_count": 1,
   "id": "982369e4-56aa-4dae-b35e-7f0ce2c189f6",
   "metadata": {},
   "outputs": [
    {
     "name": "stdin",
     "output_type": "stream",
     "text": [
      "ENTER THE FIRST NUMBER 1\n",
      "ENTER THE SECOND NUMBER 0\n"
     ]
    },
    {
     "name": "stdout",
     "output_type": "stream",
     "text": [
      "ZERO CANNOT DIVID A NUMBER\n"
     ]
    }
   ],
   "source": [
    "try:\n",
    "    num1=int(input(\"ENTER THE FIRST NUMBER\"))\n",
    "    num2=int(input(\"ENTER THE SECOND NUMBER\"))\n",
    "    div=num1/num2\n",
    "except ZeroDivisionError:  #here we handled a error using try-except block\n",
    "    print(\"ZERO CANNOT DIVID A NUMBER\")# this meesage will be sent to client there easily undersatnnd code\n",
    "    "
   ]
  },
  {
   "cell_type": "markdown",
   "id": "c5040aee-d310-4a68-b6f1-24a51cbcacdb",
   "metadata": {},
   "source": [
    "# Q2. Write a python program to print Python Exception Hierarchy."
   ]
  },
  {
   "cell_type": "code",
   "execution_count": 9,
   "id": "a3de0e64-16b4-46b8-b586-355c4b16b6e9",
   "metadata": {},
   "outputs": [
    {
     "ename": "TypeError",
     "evalue": "print_exception_hierarchy() missing 1 required positional argument: 'exception_class'",
     "output_type": "error",
     "traceback": [
      "\u001b[0;31m---------------------------------------------------------------------------\u001b[0m",
      "\u001b[0;31mTypeError\u001b[0m                                 Traceback (most recent call last)",
      "Cell \u001b[0;32mIn[9], line 8\u001b[0m\n\u001b[1;32m      5\u001b[0m     \u001b[38;5;28;01mfor\u001b[39;00m subclass \u001b[38;5;129;01min\u001b[39;00m exception_class\u001b[38;5;241m.\u001b[39m__subclasses__():\n\u001b[1;32m      6\u001b[0m         print_exception_hierarchy(subclass, indent \u001b[38;5;241m+\u001b[39m \u001b[38;5;124m'\u001b[39m\u001b[38;5;124m  \u001b[39m\u001b[38;5;124m'\u001b[39m)\n\u001b[0;32m----> 8\u001b[0m \u001b[43mprint_exception_hierarchy\u001b[49m\u001b[43m(\u001b[49m\u001b[43m)\u001b[49m\n",
      "\u001b[0;31mTypeError\u001b[0m: print_exception_hierarchy() missing 1 required positional argument: 'exception_class'"
     ]
    }
   ],
   "source": [
    "import inspect\n",
    "\n",
    "def print_exception_hierarchy(exception_class, indent=''):\n",
    "    print(f'{indent}{exception_class.__name__}')\n",
    "    for subclass in exception_class.__subclasses__():\n",
    "        print_exception_hierarchy(subclass, indent + '  ')\n",
    "\n",
    "print_exception_hierarchy()\n"
   ]
  },
  {
   "cell_type": "markdown",
   "id": "c6d027aa-e37c-42ad-af28-946c25c26f00",
   "metadata": {},
   "source": [
    "# Q3. What errors are defined in the ArithmeticError class? Explain any two with an example."
   ]
  },
  {
   "cell_type": "code",
   "execution_count": 1,
   "id": "706af954-37eb-4054-9ee0-f92321a8c977",
   "metadata": {},
   "outputs": [
    {
     "name": "stdout",
     "output_type": "stream",
     "text": [
      "ArithmeticError\n",
      "  FloatingPointError\n",
      "  OverflowError\n",
      "  ZeroDivisionError\n",
      "    DivisionByZero\n",
      "    DivisionUndefined\n",
      "  DecimalException\n",
      "    Clamped\n",
      "    Rounded\n",
      "      Underflow\n",
      "      Overflow\n",
      "    Inexact\n",
      "      Underflow\n",
      "      Overflow\n",
      "    Subnormal\n",
      "      Underflow\n",
      "    DivisionByZero\n",
      "    FloatOperation\n",
      "    InvalidOperation\n",
      "      ConversionSyntax\n",
      "      DivisionImpossible\n",
      "      DivisionUndefined\n",
      "      InvalidContext\n"
     ]
    }
   ],
   "source": [
    "import inspect\n",
    "\n",
    "def print_exception_hierarchy(exception_class, indent=''):\n",
    "    print(f'{indent}{exception_class.__name__}')\n",
    "    for subclass in exception_class.__subclasses__():\n",
    "        print_exception_hierarchy(subclass, indent + '  ')\n",
    "\n",
    "print_exception_hierarchy(ArithmeticError)\n"
   ]
  },
  {
   "cell_type": "markdown",
   "id": "72b6ef1b-daab-41d2-85f4-011247652bf4",
   "metadata": {},
   "source": [
    "ArithmeticError serves as a superclass for more specific arithmetic-related exception classes, such as ZeroDivisionError, OverflowError, and FloatingPointError. These subclasses handle specific types of arithmetic errors that may occur during calculations.\n",
    "\n",
    "Here are a few common subclasses of ArithmeticError:\n",
    "\n",
    "ZeroDivisionError: Raised when division or modulo operation is performed with zero as the divisor.\n",
    "\n",
    "OverflowError: Raised when the result of an arithmetic operation exceeds the maximum representable value.\n",
    "\n",
    "FloatingPointError: Raised when a floating-point operation fails to produce a valid result, such as division by zero or an invalid operation"
   ]
  },
  {
   "cell_type": "code",
   "execution_count": 4,
   "id": "a2cb35ed-a055-40a5-9a6d-517383b48565",
   "metadata": {},
   "outputs": [
    {
     "name": "stdin",
     "output_type": "stream",
     "text": [
      " 4\n"
     ]
    },
    {
     "ename": "TypeError",
     "evalue": "unsupported operand type(s) for +: 'int' and 'str'",
     "output_type": "error",
     "traceback": [
      "\u001b[0;31m---------------------------------------------------------------------------\u001b[0m",
      "\u001b[0;31mTypeError\u001b[0m                                 Traceback (most recent call last)",
      "Cell \u001b[0;32mIn[4], line 2\u001b[0m\n\u001b[1;32m      1\u001b[0m num\u001b[38;5;241m=\u001b[39m\u001b[38;5;28mint\u001b[39m(\u001b[38;5;28minput\u001b[39m(\u001b[38;5;124m\"\u001b[39m\u001b[38;5;124m\"\u001b[39m))\n\u001b[0;32m----> 2\u001b[0m \u001b[43mnum\u001b[49m\u001b[38;5;241;43m+\u001b[39;49m\u001b[38;5;124;43m\"\u001b[39;49m\u001b[38;5;124;43mhello\u001b[39;49m\u001b[38;5;124;43m\"\u001b[39;49m\n",
      "\u001b[0;31mTypeError\u001b[0m: unsupported operand type(s) for +: 'int' and 'str'"
     ]
    }
   ],
   "source": [
    "num=int(input(\"\"))\n",
    "num+\"hello\""
   ]
  },
  {
   "cell_type": "markdown",
   "id": "f28814b0-efd4-4b8d-9f44-a60014edb243",
   "metadata": {},
   "source": [
    "# Q4. Why LookupError class is used? Explain with an example KeyError and IndexError."
   ]
  },
  {
   "cell_type": "markdown",
   "id": "c9b8ac70-4400-4128-9511-0bbc6e672cba",
   "metadata": {},
   "source": [
    "The LookupError class is a base class in Python's exception hierarchy that serves as a superclass for exceptions related to key or index lookup failures. It provides a convenient way to catch and handle lookup-related errors in a more general manner. It is not meant to be raised directly but rather serves as a base class for more specific lookup-related exceptions.\n",
    "\n",
    "Here are two subclasses of LookupError: KeyError and IndexError.\n",
    "\n",
    "KeyError:\n",
    "KeyError is raised when a dictionary key is not found. It occurs when you try to access or retrieve a value from a dictionary using a key that does not exist in the dictionary. For example:\n",
    "\n",
    "\n",
    "my_dict = {\"name\": \"John\", \"age\": 25}\n",
    "print(my_dict[\"gender\"])  # Raises KeyError: 'gender'\n",
    "In the above code, the key \"gender\" does not exist in the dictionary, resulting in a KeyError. You can catch this exception to handle cases where a specific key is not found in a dictionary.\n",
    "\n",
    "IndexError:\n",
    "IndexError is raised when you try to access a sequence (such as a list, tuple, or string) using an invalid index or slice. It occurs when the index is out of range or does not exist in the sequence. For example:\n",
    "\n",
    "my_list = [1, 2, 3]\n",
    "print(my_list[3])  # Raises IndexError: list index out of range\n",
    "In the above code, the index 3 is beyond the valid range of the list, resulting in an IndexError. You can catch this exception to handle cases where an invalid index is used to access elements in a sequence"
   ]
  },
  {
   "cell_type": "markdown",
   "id": "c4145944-22f8-4007-a712-2e3535d311ad",
   "metadata": {},
   "source": [
    "# Q5.  Explain ImportError. What is ModuleNotFoundError?"
   ]
  },
  {
   "cell_type": "markdown",
   "id": "592a73e5-ee93-4cc8-86f7-e74160d63616",
   "metadata": {},
   "source": [
    "ImportError:\n",
    "ImportError is a built-in exception that is raised when an import statement fails to import a module. It indicates that there was an issue while importing a module, which could be due to various reasons, such as:\n",
    "\n",
    "The module does not exist in the specified location or cannot be found in the search paths.\n",
    "There is an error in the module's code, preventing it from being imported.\n",
    "The module's dependencies are not installed or accessible.\n",
    "Here's an example of an ImportError:\n",
    "\n",
    " \n",
    "import non_existent_module  # Raises ImportError: No module named 'non_existent_module'\n",
    "In this code, the module named \"non_existent_module\" does not exist or cannot be found, resulting in an ImportError. This exception can be caught and handled to provide appropriate error messages or fallback behaviors when importing modules.\n",
    "\n",
    "ModuleNotFoundError:\n",
    "ModuleNotFoundError is a subclass of ImportError that specifically indicates that the requested module could not be found. It was introduced in Python 3.6 to provide a more specific exception for module not found errors. ModuleNotFoundError is raised when Python cannot locate the module specified in the import statement.\n",
    "\n",
    " \n",
    "import non_existent_module  # Raises ModuleNotFoundError: No module named 'non_existent_module'\n",
    "As shown in the example, when an import statement fails due to the module not being found, ModuleNotFoundError is raised. This exception provides more clarity about the cause of the error, specifically highlighting that the module was not found"
   ]
  },
  {
   "cell_type": "markdown",
   "id": "84d0c019-f865-4b95-a377-825a0b8c24fd",
   "metadata": {},
   "source": [
    "# Q6. List down some best practices for exception handling in python."
   ]
  },
  {
   "cell_type": "code",
   "execution_count": null,
   "id": "08b4af46-20fb-4050-84fb-cd3110141b62",
   "metadata": {},
   "outputs": [],
   "source": []
  }
 ],
 "metadata": {
  "kernelspec": {
   "display_name": "Python 3 (ipykernel)",
   "language": "python",
   "name": "python3"
  },
  "language_info": {
   "codemirror_mode": {
    "name": "ipython",
    "version": 3
   },
   "file_extension": ".py",
   "mimetype": "text/x-python",
   "name": "python",
   "nbconvert_exporter": "python",
   "pygments_lexer": "ipython3",
   "version": "3.10.8"
  }
 },
 "nbformat": 4,
 "nbformat_minor": 5
}
