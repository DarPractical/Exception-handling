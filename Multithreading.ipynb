{
 "cells": [
  {
   "cell_type": "markdown",
   "id": "7db724e9-7ceb-4f7b-ba6e-be160d32ee24",
   "metadata": {},
   "source": [
    "# Q1, what is multithreading in python? hy is it used? Name the module used to handle threads in python"
   ]
  },
  {
   "cell_type": "markdown",
   "id": "e22e0693-1a08-4615-ace0-885eb393d8bb",
   "metadata": {},
   "source": [
    "Multi_Threading:\n",
    "\n",
    "    1)Multithreading is a concept in python wich helps to make use of multiple cores and helps in handle multiple rquests at a time this make our code wwork efficeintly \n",
    "    \n",
    "    2)it is used to work on mutiple programs at a time and handle the multiple rquests at a time\n",
    "    \n",
    "    3)threading is a module is used to handle threads \n",
    "    \n",
    "    "
   ]
  },
  {
   "cell_type": "markdown",
   "id": "7bbfe262-f326-4256-9e69-38f21643d40c",
   "metadata": {},
   "source": [
    "# Q2. hy threading module used? rite the use of the following functions"
   ]
  },
  {
   "cell_type": "markdown",
   "id": "892e3de7-d19b-4949-a431-b33f89b1c5f4",
   "metadata": {},
   "source": [
    "#### The threading module in Python is used to create and manage threads for concurrent execution of multiple tasks. It provides a high-level interface for working with threads and simplifies the process of writing multi-threaded programs."
   ]
  },
  {
   "cell_type": "markdown",
   "id": "6f119aeb-4062-481a-bf4d-d215be05e807",
   "metadata": {},
   "source": [
    "1.activeCount:-  \n",
    "        It is a method that can be called on the threading module itself or on a Thread object to get the number of active threads in the current thread's ThreadGroup and its subgroups.\n",
    "        \n",
    "2.currentThread:-\n",
    "        The currentThread() function is useful when you need to access or manipulate properties of the current thread, such as its name, identification number, or other thread-specific attributes.\n",
    "        \n",
    "3.enumerate:-\n",
    "        The enumerate() function is a built-in function in Python that allows you to iterate over a sequence while simultaneously tracking the index (position) of each item. It returns an iterator of tuples, where each tuple contains the index and the corresponding item from the sequence."
   ]
  },
  {
   "cell_type": "markdown",
   "id": "8cb6f72c-06d3-407c-912d-e9ebb6c1f14d",
   "metadata": {},
   "source": [
    "# QUESTION 3"
   ]
  },
  {
   "cell_type": "markdown",
   "id": "0fd14674-7b8e-4097-bff5-877a57b34057",
   "metadata": {},
   "source": [
    "run():-\n",
    "In the threading module, the run() method is not a standalone function, but rather a method that is meant to be overridden in a subclass of the Thread class. It defines the behavior of the thread when it is started using the start() method.\n",
    "\n",
    "start():-\n",
    "    \n",
    "The start() method is a function available in the Thread class of the threading module in Python. It is used to start the execution of a thread by invoking the run() method of the thread.\n",
    "\n",
    "\n",
    "Thread.join():\n",
    "\n",
    "This method blocks the execution of the calling thread until the thread it's called on finishes its execution.\n",
    "It is useful when you want to wait for a thread to complete before proceeding further."
   ]
  },
  {
   "cell_type": "markdown",
   "id": "64ba8f6f-61ec-40b0-b01f-bf9c3d12943f",
   "metadata": {},
   "source": [
    "# 4. rite a python program to create two threads. Thread one must print the list of squares and thread two must print the list of cubes"
   ]
  },
  {
   "cell_type": "code",
   "execution_count": 12,
   "id": "a315f80f-37f8-404a-b390-252a7421c7ab",
   "metadata": {},
   "outputs": [
    {
     "name": "stdout",
     "output_type": "stream",
     "text": [
      "Square of 1: 1\n",
      "Square of 2: 4\n",
      "Square of 3: 9\n",
      "Square of 4: 16\n",
      "Square of 5: 25\n",
      "Square of 6: 36\n",
      "Square of 7: 49\n",
      "Square of 8: 64\n",
      "Square of 9: 81\n",
      "Square of 10: 100\n",
      "Cube of 1: 1\n",
      "Cube of 2: 8\n",
      "Cube of 3: 27\n",
      "Cube of 4: 64\n",
      "Cube of 5: 125\n",
      "Cube of 6: 216\n",
      "Cube of 7: 343\n",
      "Cube of 8: 512\n",
      "Cube of 9: 729\n",
      "Cube of 10: 1000\n",
      "Program execution completed.\n"
     ]
    }
   ],
   "source": [
    "import threading\n",
    "\n",
    "def print_squares():\n",
    "    for i in range(1, 11):\n",
    "        print(f\"Square of {i}: {i ** 2}\")\n",
    "\n",
    "def print_cubes():\n",
    "    for i in range(1, 11):\n",
    "        print(f\"Cube of {i}: {i ** 3}\")\n",
    "\n",
    "# Create thread one for printing squares\n",
    "thread1 = threading.Thread(target=print_squares)\n",
    "\n",
    "# Create thread two for printing cubes\n",
    "thread2 = threading.Thread(target=print_cubes)\n",
    "\n",
    "# Start both threads\n",
    "thread1.start()\n",
    "thread2.start()\n",
    "\n",
    "# Wait for both threads to complete\n",
    "thread1.join()\n",
    "thread2.join()\n",
    "\n",
    "print(\"Program execution completed.\")\n"
   ]
  },
  {
   "cell_type": "markdown",
   "id": "6b14a2bc-ea7b-42f4-860f-a2a837c13f17",
   "metadata": {},
   "source": [
    "# 5. State advantages and disadvantages of multithreading"
   ]
  },
  {
   "cell_type": "markdown",
   "id": "cb049426-e530-4e48-8c92-3c1f77d8b36b",
   "metadata": {},
   "source": [
    "##  Advantages of Multithreading:\n",
    "    1)Utilization of Multi-Core Processors\n",
    "    2)Simplified Design\n",
    "    3)Resource Sharing\n",
    "    4)Enhanced Responsiveness\n",
    "    5)Concurrent Execution\n",
    "## Disadvantages of Multithreading:\n",
    "    1)Complexity\n",
    "    2)Potential for Thread Interference\n",
    "    3)Increased Memory Usage\n",
    "    4)Debugging Difficulties\n",
    "    5)Synchronization Overhead\n",
    "    \n",
    "    \n",
    "    "
   ]
  },
  {
   "cell_type": "markdown",
   "id": "aa53bbb0-381d-4011-b097-9fc1031edf10",
   "metadata": {},
   "source": [
    "# 6. Explain deadlocks and race conditions."
   ]
  },
  {
   "cell_type": "code",
   "execution_count": null,
   "id": "57780c6e-f029-4082-bdf1-41d32f4d67a3",
   "metadata": {},
   "outputs": [],
   "source": []
  }
 ],
 "metadata": {
  "kernelspec": {
   "display_name": "Python 3 (ipykernel)",
   "language": "python",
   "name": "python3"
  },
  "language_info": {
   "codemirror_mode": {
    "name": "ipython",
    "version": 3
   },
   "file_extension": ".py",
   "mimetype": "text/x-python",
   "name": "python",
   "nbconvert_exporter": "python",
   "pygments_lexer": "ipython3",
   "version": "3.10.8"
  }
 },
 "nbformat": 4,
 "nbformat_minor": 5
}
