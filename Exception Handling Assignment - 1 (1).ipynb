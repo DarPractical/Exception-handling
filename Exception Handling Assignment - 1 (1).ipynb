{
 "cells": [
  {
   "cell_type": "markdown",
   "id": "ea44cf47-b0fa-4903-a241-5416c7a1f954",
   "metadata": {},
   "source": [
    "# Q1 what is exception handling in python? and diffrence between execption and syntax errors?\n"
   ]
  },
  {
   "cell_type": "markdown",
   "id": "d722554e-56fc-4608-bc32-03d423c17f97",
   "metadata": {},
   "source": [
    "Exception handling in Python refers to the process of catching and handling exceptions or errors that may occur during the execution of a program. Python provides a robust mechanism for handling exceptions, which allows you to gracefully handle errors and prevent your program from crashing.\n",
    "\n",
    "\n",
    "## diffrence between execption and syntax error in python\n",
    " Syntax Error: Syntax errors occur when the Python interpreter encounters code that violates the language's syntax rules.\n",
    "\n",
    " Exception: Exceptions, on the other hand, occur during the execution of a program. They are raised when an error or exceptional condition is encountered while executing a specific line or block of code."
   ]
  },
  {
   "cell_type": "markdown",
   "id": "d9782bc5-59a2-4c70-949f-6daa0ac166c8",
   "metadata": {},
   "source": [
    "# Q2 What happens when an exception is not handled? Explain with an example "
   ]
  },
  {
   "cell_type": "markdown",
   "id": "a0e98801-9121-45e7-98aa-a22ee754b302",
   "metadata": {},
   "source": [
    "When exception handling is not implemented in a Python program, the occurrence of an exception will result in the program terminating abruptly. The default behavior is to display an error traceback message, \n",
    "\n"
   ]
  },
  {
   "cell_type": "code",
   "execution_count": 1,
   "id": "b6977a3a-acb7-4877-94eb-c27fcb1eada8",
   "metadata": {},
   "outputs": [
    {
     "name": "stdin",
     "output_type": "stream",
     "text": [
      "Enter a number:  1\n",
      "Enter another number:  0\n"
     ]
    },
    {
     "ename": "ZeroDivisionError",
     "evalue": "division by zero",
     "output_type": "error",
     "traceback": [
      "\u001b[0;31m---------------------------------------------------------------------------\u001b[0m",
      "\u001b[0;31mZeroDivisionError\u001b[0m                         Traceback (most recent call last)",
      "Cell \u001b[0;32mIn[1], line 3\u001b[0m\n\u001b[1;32m      1\u001b[0m num1 \u001b[38;5;241m=\u001b[39m \u001b[38;5;28mint\u001b[39m(\u001b[38;5;28minput\u001b[39m(\u001b[38;5;124m\"\u001b[39m\u001b[38;5;124mEnter a number: \u001b[39m\u001b[38;5;124m\"\u001b[39m))\n\u001b[1;32m      2\u001b[0m num2 \u001b[38;5;241m=\u001b[39m \u001b[38;5;28mint\u001b[39m(\u001b[38;5;28minput\u001b[39m(\u001b[38;5;124m\"\u001b[39m\u001b[38;5;124mEnter another number: \u001b[39m\u001b[38;5;124m\"\u001b[39m))\n\u001b[0;32m----> 3\u001b[0m result \u001b[38;5;241m=\u001b[39m \u001b[43mnum1\u001b[49m\u001b[43m \u001b[49m\u001b[38;5;241;43m/\u001b[39;49m\u001b[43m \u001b[49m\u001b[43mnum2\u001b[49m\n\u001b[1;32m      4\u001b[0m \u001b[38;5;28mprint\u001b[39m(\u001b[38;5;124m\"\u001b[39m\u001b[38;5;124mResult:\u001b[39m\u001b[38;5;124m\"\u001b[39m, result) \u001b[38;5;66;03m#when we give 0 for num2 we will get 'ZeroDivisionError'\u001b[39;00m\n",
      "\u001b[0;31mZeroDivisionError\u001b[0m: division by zero"
     ]
    }
   ],
   "source": [
    "num1 = int(input(\"Enter a number: \"))\n",
    "num2 = int(input(\"Enter another number: \"))\n",
    "result = num1 / num2\n",
    "print(\"Result:\", result) #when we give 0 for num2 we will get 'ZeroDivisionError'\n",
    "\n",
    "\n"
   ]
  },
  {
   "cell_type": "markdown",
   "id": "3787db20-d461-4623-a17f-d3bdc5bf7bbd",
   "metadata": {},
   "source": [
    "# Q3. Which Python statements are used to catch and handle exceptions? Explain with an example. "
   ]
  },
  {
   "cell_type": "markdown",
   "id": "d52488b8-8053-4944-ab6e-2a0dfa153f89",
   "metadata": {},
   "source": [
    "1)'try-excep't: The try block is used to enclose the code that might raise an exception.\n",
    "\n",
    "\n",
    "2)'else': The else block is optional and is executed if no exceptions occur within the try block.\n",
    "\n",
    "\n",
    "3)'finally': The finally block is also optional and is executed regardless of whether an exception occurred or not\n",
    "\n",
    "\n",
    "4)'raise': The raise statement is used to manually raise an exception. It allows you to throw custom exceptions or re-raise exceptions caught in the except block.\n",
    "\n",
    "\n",
    "5)'assert': The assert statement is used to check if a condition is true. If the condition is false, it raises an AssertionError exception."
   ]
  },
  {
   "cell_type": "markdown",
   "id": "1517f43d-c23f-4c65-a264-9c56ba1fc262",
   "metadata": {},
   "source": [
    "# Q4. Explain with an example:1)try and else 2)  finall 3) raise"
   ]
  },
  {
   "cell_type": "code",
   "execution_count": null,
   "id": "8aedbb2b-0786-4a32-a40d-5979177561e5",
   "metadata": {},
   "outputs": [],
   "source": [
    "def divide_numbers(num1, num2):\n",
    "    try:\n",
    "        result = num1 / num2\n",
    "    except ZeroDivisionError:\n",
    "        print(\"Cannot divide by zero!\")\n",
    "    else:\n",
    "        print(\"Division result:\", result)\n",
    "    finally:\n",
    "        print(\"Finally block executed.\")\n",
    "\n",
    "\n",
    "# Example 1: Dividing two numbers\n",
    "divide_numbers(10, 2)\n",
    "\n",
    "# Example 2: Dividing by zero\n",
    "divide_numbers(10, 0)\n",
    "\n",
    "# Example 3: Raising a custom exception\n",
    "def process_input(value):\n",
    "    try:\n",
    "        if value < 0:\n",
    "            raise ValueError(\"Input cannot be negative!\")\n",
    "        else:\n",
    "            print(\"Processing input:\", value)\n",
    "    except ValueError as e:\n",
    "        print(\"Error:\", str(e))\n",
    "\n",
    "process_input(42)\n",
    "process_input(-5)\n"
   ]
  },
  {
   "cell_type": "markdown",
   "id": "193292b6-53dd-4e74-ae05-898459564d89",
   "metadata": {},
   "source": [
    "\n",
    "\n",
    "The divide_numbers function attempts to divide num1 by num2.\n",
    "Since the numbers 10 and 2 can be divided without any issues, the code within the try block executes successfully.\n",
    "The else block is then executed, which prints the division result.\n",
    "Finally, the finally block is executed regardless of whether an exception occurred or not."
   ]
  },
  {
   "cell_type": "markdown",
   "id": "59014717-b466-4c7b-9358-219c31c37b6f",
   "metadata": {},
   "source": [
    "# Q5. What are Custom Exceptions in python? Why do we need Custom Exceptions? Explain with an example. "
   ]
  },
  {
   "cell_type": "markdown",
   "id": "9f41e91f-3d73-40ed-8f23-2ba2122032f7",
   "metadata": {},
   "source": [
    "Custom exceptions in Python are user-defined exception classes that extend the built-in Exception class or any of its subclasses. They allow developers to create their own exception types to handle specific error conditions in their programs. Custom exceptions provide a way to differentiate between various types of exceptions and add more meaningful error messages or additional information.\n",
    "\n",
    "Here are a few reasons why custom exceptions are useful:\n",
    "\n",
    "Semantic Clarity: Custom exceptions make the code more readable and self-explanatory. By creating specific exception classes, you can communicate the nature of the error more effectively. This improves the understanding of the code for both developers and maintainers.\n",
    "\n",
    "Error Differentiation: Different types of exceptions may require different handling strategies. By defining custom exceptions, you can catch and handle specific types of errors separately, allowing for more fine-grained control over error handling.\n",
    "\n",
    "Error Information: Custom exceptions can include additional attributes or methods to provide more information about the error context. This can be useful for logging, debugging, or providing more detailed error messages."
   ]
  },
  {
   "cell_type": "markdown",
   "id": "a67e810f-8d36-4019-a948-5f68ad06802c",
   "metadata": {},
   "source": [
    "# Q6. Create a custom exception class. Use this class to handle an exception."
   ]
  },
  {
   "cell_type": "markdown",
   "id": "e1c55adf-ec4f-490a-a4a1-61a7117cd012",
   "metadata": {},
   "source": [
    "# class CustomException(Exception):\n",
    "    def __init__(self, message):\n",
    "        self.message = message\n",
    "\n",
    "    def __str__(self):\n",
    "        return self.message\n",
    "\n",
    "\n",
    "def divide_numbers(num1, num2):\n",
    "    try:\n",
    "        if num2 == 0:\n",
    "            raise CustomException(\"Cannot divide by zero!\")\n",
    "        else:\n",
    "            result = num1 / num2\n",
    "            print(\"Division result:\", result)\n",
    "    except CustomException as e:\n",
    "        print(\"Error:\", str(e))\n",
    "\n",
    "\n",
    "# Example usage\n",
    "divide_numbers(10, 2)\n",
    "divide_numbers(10, 0)\n"
   ]
  }
 ],
 "metadata": {
  "kernelspec": {
   "display_name": "Python 3 (ipykernel)",
   "language": "python",
   "name": "python3"
  },
  "language_info": {
   "codemirror_mode": {
    "name": "ipython",
    "version": 3
   },
   "file_extension": ".py",
   "mimetype": "text/x-python",
   "name": "python",
   "nbconvert_exporter": "python",
   "pygments_lexer": "ipython3",
   "version": "3.10.8"
  }
 },
 "nbformat": 4,
 "nbformat_minor": 5
}
